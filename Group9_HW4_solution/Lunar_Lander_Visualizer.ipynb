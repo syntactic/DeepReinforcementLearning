{
  "nbformat": 4,
  "nbformat_minor": 0,
  "metadata": {
    "colab": {
      "provenance": []
    },
    "kernelspec": {
      "name": "python3",
      "display_name": "Python 3"
    },
    "language_info": {
      "name": "python"
    }
  },
  "cells": [
    {
      "cell_type": "code",
      "execution_count": null,
      "metadata": {
        "colab": {
          "base_uri": "https://localhost:8080/"
        },
        "id": "h-QPmSGBAP1f",
        "outputId": "3b004487-92ba-41ee-fab6-23adc44da8cb"
      },
      "outputs": [
        {
          "output_type": "stream",
          "name": "stdout",
          "text": [
            "Looking in indexes: https://pypi.org/simple, https://us-python.pkg.dev/colab-wheels/public/simple/\n",
            "Collecting swig\n",
            "  Downloading swig-4.1.1-py2.py3-none-manylinux_2_5_x86_64.manylinux1_x86_64.whl (1.8 MB)\n",
            "\u001b[2K     \u001b[90m━━━━━━━━━━━━━━━━━━━━━━━━━━━━━━━━━━━━━━━━\u001b[0m \u001b[32m1.8/1.8 MB\u001b[0m \u001b[31m24.2 MB/s\u001b[0m eta \u001b[36m0:00:00\u001b[0m\n",
            "\u001b[?25hInstalling collected packages: swig\n",
            "Successfully installed swig-4.1.1\n",
            "Looking in indexes: https://pypi.org/simple, https://us-python.pkg.dev/colab-wheels/public/simple/\n",
            "Collecting gymnasium[accept-rom-license,atari,box2d]\n",
            "  Downloading gymnasium-0.28.1-py3-none-any.whl (925 kB)\n",
            "\u001b[2K     \u001b[90m━━━━━━━━━━━━━━━━━━━━━━━━━━━━━━━━━━━━━━\u001b[0m \u001b[32m925.5/925.5 kB\u001b[0m \u001b[31m25.0 MB/s\u001b[0m eta \u001b[36m0:00:00\u001b[0m\n",
            "\u001b[?25hRequirement already satisfied: numpy>=1.21.0 in /usr/local/lib/python3.10/dist-packages (from gymnasium[accept-rom-license,atari,box2d]) (1.22.4)\n",
            "Collecting jax-jumpy>=1.0.0 (from gymnasium[accept-rom-license,atari,box2d])\n",
            "  Downloading jax_jumpy-1.0.0-py3-none-any.whl (20 kB)\n",
            "Requirement already satisfied: cloudpickle>=1.2.0 in /usr/local/lib/python3.10/dist-packages (from gymnasium[accept-rom-license,atari,box2d]) (2.2.1)\n",
            "Requirement already satisfied: typing-extensions>=4.3.0 in /usr/local/lib/python3.10/dist-packages (from gymnasium[accept-rom-license,atari,box2d]) (4.5.0)\n",
            "Collecting farama-notifications>=0.0.1 (from gymnasium[accept-rom-license,atari,box2d])\n",
            "  Downloading Farama_Notifications-0.0.4-py3-none-any.whl (2.5 kB)\n",
            "Collecting shimmy[atari]<1.0,>=0.1.0 (from gymnasium[accept-rom-license,atari,box2d])\n",
            "  Downloading Shimmy-0.2.1-py3-none-any.whl (25 kB)\n",
            "Collecting box2d-py==2.3.5 (from gymnasium[accept-rom-license,atari,box2d])\n",
            "  Downloading box2d-py-2.3.5.tar.gz (374 kB)\n",
            "\u001b[2K     \u001b[90m━━━━━━━━━━━━━━━━━━━━━━━━━━━━━━━━━━━━━━\u001b[0m \u001b[32m374.4/374.4 kB\u001b[0m \u001b[31m20.5 MB/s\u001b[0m eta \u001b[36m0:00:00\u001b[0m\n",
            "\u001b[?25h  Preparing metadata (setup.py) ... \u001b[?25l\u001b[?25hdone\n",
            "Collecting pygame==2.1.3 (from gymnasium[accept-rom-license,atari,box2d])\n",
            "  Downloading pygame-2.1.3-cp310-cp310-manylinux_2_17_x86_64.manylinux2014_x86_64.whl (13.7 MB)\n",
            "\u001b[2K     \u001b[90m━━━━━━━━━━━━━━━━━━━━━━━━━━━━━━━━━━━━━━━━\u001b[0m \u001b[32m13.7/13.7 MB\u001b[0m \u001b[31m24.7 MB/s\u001b[0m eta \u001b[36m0:00:00\u001b[0m\n",
            "\u001b[?25hRequirement already satisfied: swig==4.* in /usr/local/lib/python3.10/dist-packages (from gymnasium[accept-rom-license,atari,box2d]) (4.1.1)\n",
            "Collecting autorom[accept-rom-license]~=0.4.2 (from gymnasium[accept-rom-license,atari,box2d])\n",
            "  Downloading AutoROM-0.4.2-py3-none-any.whl (16 kB)\n",
            "Requirement already satisfied: click in /usr/local/lib/python3.10/dist-packages (from autorom[accept-rom-license]~=0.4.2->gymnasium[accept-rom-license,atari,box2d]) (8.1.3)\n",
            "Requirement already satisfied: requests in /usr/local/lib/python3.10/dist-packages (from autorom[accept-rom-license]~=0.4.2->gymnasium[accept-rom-license,atari,box2d]) (2.27.1)\n",
            "Requirement already satisfied: tqdm in /usr/local/lib/python3.10/dist-packages (from autorom[accept-rom-license]~=0.4.2->gymnasium[accept-rom-license,atari,box2d]) (4.65.0)\n",
            "Collecting AutoROM.accept-rom-license (from autorom[accept-rom-license]~=0.4.2->gymnasium[accept-rom-license,atari,box2d])\n",
            "  Downloading AutoROM.accept-rom-license-0.6.1.tar.gz (434 kB)\n",
            "\u001b[2K     \u001b[90m━━━━━━━━━━━━━━━━━━━━━━━━━━━━━━━━━━━━━━\u001b[0m \u001b[32m434.7/434.7 kB\u001b[0m \u001b[31m25.0 MB/s\u001b[0m eta \u001b[36m0:00:00\u001b[0m\n",
            "\u001b[?25h  Installing build dependencies ... \u001b[?25l\u001b[?25hdone\n",
            "  Getting requirements to build wheel ... \u001b[?25l\u001b[?25hdone\n",
            "  Preparing metadata (pyproject.toml) ... \u001b[?25l\u001b[?25hdone\n",
            "Collecting ale-py~=0.8.1 (from shimmy[atari]<1.0,>=0.1.0->gymnasium[accept-rom-license,atari,box2d])\n",
            "  Downloading ale_py-0.8.1-cp310-cp310-manylinux_2_17_x86_64.manylinux2014_x86_64.whl (1.7 MB)\n",
            "\u001b[2K     \u001b[90m━━━━━━━━━━━━━━━━━━━━━━━━━━━━━━━━━━━━━━━━\u001b[0m \u001b[32m1.7/1.7 MB\u001b[0m \u001b[31m81.6 MB/s\u001b[0m eta \u001b[36m0:00:00\u001b[0m\n",
            "\u001b[?25hRequirement already satisfied: importlib-resources in /usr/local/lib/python3.10/dist-packages (from ale-py~=0.8.1->shimmy[atari]<1.0,>=0.1.0->gymnasium[accept-rom-license,atari,box2d]) (5.12.0)\n",
            "Requirement already satisfied: urllib3<1.27,>=1.21.1 in /usr/local/lib/python3.10/dist-packages (from requests->autorom[accept-rom-license]~=0.4.2->gymnasium[accept-rom-license,atari,box2d]) (1.26.15)\n",
            "Requirement already satisfied: certifi>=2017.4.17 in /usr/local/lib/python3.10/dist-packages (from requests->autorom[accept-rom-license]~=0.4.2->gymnasium[accept-rom-license,atari,box2d]) (2022.12.7)\n",
            "Requirement already satisfied: charset-normalizer~=2.0.0 in /usr/local/lib/python3.10/dist-packages (from requests->autorom[accept-rom-license]~=0.4.2->gymnasium[accept-rom-license,atari,box2d]) (2.0.12)\n",
            "Requirement already satisfied: idna<4,>=2.5 in /usr/local/lib/python3.10/dist-packages (from requests->autorom[accept-rom-license]~=0.4.2->gymnasium[accept-rom-license,atari,box2d]) (3.4)\n",
            "Building wheels for collected packages: box2d-py, AutoROM.accept-rom-license\n",
            "  Building wheel for box2d-py (setup.py) ... \u001b[?25l\u001b[?25hdone\n",
            "  Created wheel for box2d-py: filename=box2d_py-2.3.5-cp310-cp310-linux_x86_64.whl size=2811919 sha256=bb9e90366ff804da6eb85548ce62d8dbadee2d7b16d939123b049161c8959f60\n",
            "  Stored in directory: /root/.cache/pip/wheels/db/8f/6a/eaaadf056fba10a98d986f6dce954e6201ba3126926fc5ad9e\n",
            "  Building wheel for AutoROM.accept-rom-license (pyproject.toml) ... \u001b[?25l\u001b[?25hdone\n",
            "  Created wheel for AutoROM.accept-rom-license: filename=AutoROM.accept_rom_license-0.6.1-py3-none-any.whl size=446660 sha256=e9003d15d7c52ab3a34f8e62480dd0d522e8f6339bf4af6cb328739ab620c759\n",
            "  Stored in directory: /root/.cache/pip/wheels/6b/1b/ef/a43ff1a2f1736d5711faa1ba4c1f61be1131b8899e6a057811\n",
            "Successfully built box2d-py AutoROM.accept-rom-license\n",
            "Installing collected packages: farama-notifications, box2d-py, pygame, jax-jumpy, ale-py, gymnasium, AutoROM.accept-rom-license, autorom, shimmy\n",
            "  Attempting uninstall: pygame\n",
            "    Found existing installation: pygame 2.3.0\n",
            "    Uninstalling pygame-2.3.0:\n",
            "      Successfully uninstalled pygame-2.3.0\n",
            "Successfully installed AutoROM.accept-rom-license-0.6.1 ale-py-0.8.1 autorom-0.4.2 box2d-py-2.3.5 farama-notifications-0.0.4 gymnasium-0.28.1 jax-jumpy-1.0.0 pygame-2.1.3 shimmy-0.2.1\n"
          ]
        }
      ],
      "source": [
        "!pip install swig\n",
        "!pip install gymnasium[atari,accept-rom-license,box2d]"
      ]
    },
    {
      "cell_type": "code",
      "source": [
        "from IPython.display import HTML\n",
        "from base64 import b64encode\n",
        "import gymnasium as gym\n",
        "from gymnasium.utils.save_video import save_video\n",
        "import tensorflow as tf\n",
        "import numpy as np"
      ],
      "metadata": {
        "id": "7rzBYm3uAUYs"
      },
      "execution_count": null,
      "outputs": []
    },
    {
      "cell_type": "code",
      "source": [
        "def play(filename):\n",
        "    html = ''\n",
        "    video = open(filename,'rb').read()\n",
        "    src = 'data:video/mp4;base64,' + b64encode(video).decode()\n",
        "    html += '<video width=600 controls autoplay loop><source src=\"%s\" type=\"video/mp4\"></video>' % src\n",
        "    return HTML(html)"
      ],
      "metadata": {
        "id": "tUVmSXBTAU-G"
      },
      "execution_count": null,
      "outputs": []
    },
    {
      "cell_type": "code",
      "source": [
        "env = gym.make(\"LunarLander-v2\", render_mode=\"rgb_array_list\")\n",
        "_ = env.reset()\n",
        "NUM_EPISODES = 10\n",
        "episode_index = 0\n",
        "model = tf.keras.models.load_model('10-step-trained')\n",
        "\n",
        "for episode_index in range(NUM_EPISODES):\n",
        "    state, _ = env.reset()\n",
        "\n",
        "    while True:\n",
        "        q_values = model(np.array([state,]))\n",
        "        action = tf.argmax(q_values[0]).numpy()\n",
        "\n",
        "        next_state, reward, terminated, truncated, _ = env.step(action)\n",
        "\n",
        "        if terminated or truncated:\n",
        "            save_video(\n",
        "                env.render(),\n",
        "                \"videos\",\n",
        "                fps=env.metadata[\"render_fps\"],\n",
        "                episode_index=episode_index,\n",
        "                episode_trigger=lambda x : True\n",
        "              )\n",
        "            break\n",
        "\n",
        "\n",
        "env.close()"
      ],
      "metadata": {
        "colab": {
          "base_uri": "https://localhost:8080/"
        },
        "id": "0Lt3ZIKaAWWL",
        "outputId": "09de4c49-4ff2-4f09-a3f5-79a2621de61b"
      },
      "execution_count": null,
      "outputs": [
        {
          "output_type": "stream",
          "name": "stderr",
          "text": [
            "WARNING:tensorflow:No training configuration found in save file, so the model was *not* compiled. Compile it manually.\n",
            "t:  29%|██▉       | 20/68 [07:47<18:41, 23.37s/it, now=None]"
          ]
        },
        {
          "output_type": "stream",
          "name": "stdout",
          "text": [
            "Moviepy - Building video /content/videos/rl-video-episode-0.mp4.\n",
            "Moviepy - Writing video /content/videos/rl-video-episode-0.mp4\n",
            "\n"
          ]
        },
        {
          "output_type": "stream",
          "name": "stderr",
          "text": [
            "\n",
            "t:   0%|          | 0/71 [00:00<?, ?it/s, now=None]\u001b[A\n",
            "t:  59%|█████▉    | 42/71 [00:00<00:00, 411.21it/s, now=None]\u001b[A\n",
            "t:  29%|██▉       | 20/68 [07:47<18:42, 23.40s/it, now=None]"
          ]
        },
        {
          "output_type": "stream",
          "name": "stdout",
          "text": [
            "Moviepy - Done !\n",
            "Moviepy - video ready /content/videos/rl-video-episode-0.mp4\n"
          ]
        },
        {
          "output_type": "stream",
          "name": "stderr",
          "text": [
            "t:  29%|██▉       | 20/68 [07:48<18:45, 23.44s/it, now=None]"
          ]
        },
        {
          "output_type": "stream",
          "name": "stdout",
          "text": [
            "Moviepy - Building video /content/videos/rl-video-episode-1.mp4.\n",
            "Moviepy - Writing video /content/videos/rl-video-episode-1.mp4\n",
            "\n"
          ]
        },
        {
          "output_type": "stream",
          "name": "stderr",
          "text": [
            "\n",
            "t:   0%|          | 0/78 [00:00<?, ?it/s, now=None]\u001b[A\n",
            "t:  35%|███▍      | 27/78 [00:00<00:00, 261.92it/s, now=None]\u001b[A\n",
            "t:  69%|██████▉   | 54/78 [00:00<00:00, 190.71it/s, now=None]\u001b[A\n",
            "t:  96%|█████████▌| 75/78 [00:00<00:00, 157.95it/s, now=None]\u001b[A\n",
            "t:  29%|██▉       | 20/68 [07:49<18:47, 23.48s/it, now=None]"
          ]
        },
        {
          "output_type": "stream",
          "name": "stdout",
          "text": [
            "Moviepy - Done !\n",
            "Moviepy - video ready /content/videos/rl-video-episode-1.mp4\n"
          ]
        },
        {
          "output_type": "stream",
          "name": "stderr",
          "text": [
            "t:  29%|██▉       | 20/68 [07:50<18:48, 23.51s/it, now=None]"
          ]
        },
        {
          "output_type": "stream",
          "name": "stdout",
          "text": [
            "Moviepy - Building video /content/videos/rl-video-episode-2.mp4.\n",
            "Moviepy - Writing video /content/videos/rl-video-episode-2.mp4\n",
            "\n"
          ]
        },
        {
          "output_type": "stream",
          "name": "stderr",
          "text": [
            "\n",
            "t:   0%|          | 0/51 [00:00<?, ?it/s, now=None]\u001b[A\n",
            "t:  51%|█████     | 26/51 [00:00<00:00, 257.50it/s, now=None]\u001b[A\n",
            "t:  29%|██▉       | 20/68 [07:50<18:49, 23.54s/it, now=None]"
          ]
        },
        {
          "output_type": "stream",
          "name": "stdout",
          "text": [
            "Moviepy - Done !\n",
            "Moviepy - video ready /content/videos/rl-video-episode-2.mp4\n"
          ]
        },
        {
          "output_type": "stream",
          "name": "stderr",
          "text": [
            "t:  29%|██▉       | 20/68 [07:51<18:51, 23.57s/it, now=None]"
          ]
        },
        {
          "output_type": "stream",
          "name": "stdout",
          "text": [
            "Moviepy - Building video /content/videos/rl-video-episode-3.mp4.\n",
            "Moviepy - Writing video /content/videos/rl-video-episode-3.mp4\n",
            "\n"
          ]
        },
        {
          "output_type": "stream",
          "name": "stderr",
          "text": [
            "\n",
            "t:   0%|          | 0/64 [00:00<?, ?it/s, now=None]\u001b[A\n",
            "t:  64%|██████▍   | 41/64 [00:00<00:00, 407.04it/s, now=None]\u001b[A\n",
            "t:  29%|██▉       | 20/68 [07:51<18:52, 23.59s/it, now=None]"
          ]
        },
        {
          "output_type": "stream",
          "name": "stdout",
          "text": [
            "Moviepy - Done !\n",
            "Moviepy - video ready /content/videos/rl-video-episode-3.mp4\n"
          ]
        },
        {
          "output_type": "stream",
          "name": "stderr",
          "text": [
            "t:  29%|██▉       | 20/68 [07:52<18:53, 23.61s/it, now=None]"
          ]
        },
        {
          "output_type": "stream",
          "name": "stdout",
          "text": [
            "Moviepy - Building video /content/videos/rl-video-episode-4.mp4.\n",
            "Moviepy - Writing video /content/videos/rl-video-episode-4.mp4\n",
            "\n"
          ]
        },
        {
          "output_type": "stream",
          "name": "stderr",
          "text": [
            "\n",
            "t:   0%|          | 0/55 [00:00<?, ?it/s, now=None]\u001b[A\n",
            "t:  73%|███████▎  | 40/55 [00:00<00:00, 399.18it/s, now=None]\u001b[A\n",
            "t:  29%|██▉       | 20/68 [07:52<18:54, 23.63s/it, now=None]"
          ]
        },
        {
          "output_type": "stream",
          "name": "stdout",
          "text": [
            "Moviepy - Done !\n",
            "Moviepy - video ready /content/videos/rl-video-episode-4.mp4\n"
          ]
        },
        {
          "output_type": "stream",
          "name": "stderr",
          "text": [
            "t:  29%|██▉       | 20/68 [07:53<18:55, 23.65s/it, now=None]"
          ]
        },
        {
          "output_type": "stream",
          "name": "stdout",
          "text": [
            "Moviepy - Building video /content/videos/rl-video-episode-5.mp4.\n",
            "Moviepy - Writing video /content/videos/rl-video-episode-5.mp4\n",
            "\n"
          ]
        },
        {
          "output_type": "stream",
          "name": "stderr",
          "text": [
            "\n",
            "t:   0%|          | 0/52 [00:00<?, ?it/s, now=None]\u001b[A\n",
            "t:  81%|████████  | 42/52 [00:00<00:00, 407.99it/s, now=None]\u001b[A\n",
            "t:  29%|██▉       | 20/68 [07:53<18:56, 23.67s/it, now=None]"
          ]
        },
        {
          "output_type": "stream",
          "name": "stdout",
          "text": [
            "Moviepy - Done !\n",
            "Moviepy - video ready /content/videos/rl-video-episode-5.mp4\n"
          ]
        },
        {
          "output_type": "stream",
          "name": "stderr",
          "text": [
            "t:  29%|██▉       | 20/68 [07:53<18:57, 23.69s/it, now=None]"
          ]
        },
        {
          "output_type": "stream",
          "name": "stdout",
          "text": [
            "Moviepy - Building video /content/videos/rl-video-episode-6.mp4.\n",
            "Moviepy - Writing video /content/videos/rl-video-episode-6.mp4\n",
            "\n"
          ]
        },
        {
          "output_type": "stream",
          "name": "stderr",
          "text": [
            "\n",
            "t:   0%|          | 0/62 [00:00<?, ?it/s, now=None]\u001b[A\n",
            "t:  56%|█████▋    | 35/62 [00:00<00:00, 347.58it/s, now=None]\u001b[A\n",
            "t:  29%|██▉       | 20/68 [07:54<18:58, 23.71s/it, now=None]"
          ]
        },
        {
          "output_type": "stream",
          "name": "stdout",
          "text": [
            "Moviepy - Done !\n",
            "Moviepy - video ready /content/videos/rl-video-episode-6.mp4\n"
          ]
        },
        {
          "output_type": "stream",
          "name": "stderr",
          "text": [
            "t:  29%|██▉       | 20/68 [07:54<18:59, 23.75s/it, now=None]"
          ]
        },
        {
          "output_type": "stream",
          "name": "stdout",
          "text": [
            "Moviepy - Building video /content/videos/rl-video-episode-7.mp4.\n",
            "Moviepy - Writing video /content/videos/rl-video-episode-7.mp4\n",
            "\n"
          ]
        },
        {
          "output_type": "stream",
          "name": "stderr",
          "text": [
            "\n",
            "t:   0%|          | 0/85 [00:00<?, ?it/s, now=None]\u001b[A\n",
            "t:  41%|████      | 35/85 [00:00<00:00, 346.86it/s, now=None]\u001b[A\n",
            "t:  82%|████████▏ | 70/85 [00:00<00:00, 280.52it/s, now=None]\u001b[A\n",
            "t:  29%|██▉       | 20/68 [07:55<19:00, 23.77s/it, now=None]"
          ]
        },
        {
          "output_type": "stream",
          "name": "stdout",
          "text": [
            "Moviepy - Done !\n",
            "Moviepy - video ready /content/videos/rl-video-episode-7.mp4\n"
          ]
        },
        {
          "output_type": "stream",
          "name": "stderr",
          "text": [
            "t:  29%|██▉       | 20/68 [07:55<19:02, 23.79s/it, now=None]"
          ]
        },
        {
          "output_type": "stream",
          "name": "stdout",
          "text": [
            "Moviepy - Building video /content/videos/rl-video-episode-8.mp4.\n",
            "Moviepy - Writing video /content/videos/rl-video-episode-8.mp4\n",
            "\n"
          ]
        },
        {
          "output_type": "stream",
          "name": "stderr",
          "text": [
            "\n",
            "t:   0%|          | 0/57 [00:00<?, ?it/s, now=None]\u001b[A\n",
            "t:  63%|██████▎   | 36/57 [00:00<00:00, 353.88it/s, now=None]\u001b[A\n",
            "t:  29%|██▉       | 20/68 [07:56<19:02, 23.81s/it, now=None]"
          ]
        },
        {
          "output_type": "stream",
          "name": "stdout",
          "text": [
            "Moviepy - Done !\n",
            "Moviepy - video ready /content/videos/rl-video-episode-8.mp4\n"
          ]
        },
        {
          "output_type": "stream",
          "name": "stderr",
          "text": [
            "t:  29%|██▉       | 20/68 [07:57<19:04, 23.85s/it, now=None]"
          ]
        },
        {
          "output_type": "stream",
          "name": "stdout",
          "text": [
            "Moviepy - Building video /content/videos/rl-video-episode-9.mp4.\n",
            "Moviepy - Writing video /content/videos/rl-video-episode-9.mp4\n",
            "\n"
          ]
        },
        {
          "output_type": "stream",
          "name": "stderr",
          "text": [
            "\n",
            "t:   0%|          | 0/101 [00:00<?, ?it/s, now=None]\u001b[A\n",
            "t:  40%|███▉      | 40/101 [00:00<00:00, 392.65it/s, now=None]\u001b[A\n",
            "t:  79%|███████▉  | 80/101 [00:00<00:00, 260.20it/s, now=None]\u001b[A\n",
            "t:  29%|██▉       | 20/68 [07:57<19:06, 23.88s/it, now=None]"
          ]
        },
        {
          "output_type": "stream",
          "name": "stdout",
          "text": [
            "Moviepy - Done !\n",
            "Moviepy - video ready /content/videos/rl-video-episode-9.mp4\n"
          ]
        }
      ]
    },
    {
      "cell_type": "code",
      "source": [
        "play(\"videos/rl-video-episode-7.mp4\")"
      ],
      "metadata": {
        "colab": {
          "base_uri": "https://localhost:8080/",
          "height": 422
        },
        "id": "UpNRHEZMAY5c",
        "outputId": "7a1f7bcb-cd87-43a2-fad2-c9e05ef06bc1"
      },
      "execution_count": null,
      "outputs": [
        {
          "output_type": "execute_result",
          "data": {
            "text/plain": [
              "<IPython.core.display.HTML object>"
            ],
            "text/html": [
              "<video width=600 controls autoplay loop><source src=\"data:video/mp4;base64,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\" type=\"video/mp4\"></video>"
            ]
          },
          "metadata": {},
          "execution_count": 29
        }
      ]
    },
    {
      "cell_type": "code",
      "source": [
        "def create_dqn_model_lunar_lander(num_actions: int):\n",
        "    input_layer = tf.keras.Input(shape=(8), dtype=tf.float32)\n",
        "    x=tf.keras.layers.Dense(units=128, activation='relu')(input_layer)\n",
        "    x=tf.keras.layers.Dense(units=128, activation='relu')(x)\n",
        "    x = tf.keras.layers.Dense(units=num_actions, activation='linear')(x)\n",
        "\n",
        "    model = tf.keras.Model(inputs=input_layer, outputs=x)\n",
        "    return model\n",
        "model = create_dqn_model_lunar_lander(4)\n",
        "model.load_weights('/content/dqn_agent/dqn_agent.ckpt.index')"
      ],
      "metadata": {
        "colab": {
          "base_uri": "https://localhost:8080/",
          "height": 1000
        },
        "id": "duUyDf0xBj8U",
        "outputId": "c362e022-2a4b-446d-ec5f-60d6bb5cb74b"
      },
      "execution_count": null,
      "outputs": [
        {
          "output_type": "stream",
          "name": "stderr",
          "text": [
            "WARNING:tensorflow:From /usr/local/lib/python3.10/dist-packages/tensorflow/python/checkpoint/checkpoint.py:1426: NameBasedSaverStatus.__init__ (from tensorflow.python.checkpoint.checkpoint) is deprecated and will be removed in a future version.\n",
            "Instructions for updating:\n",
            "Restoring a name-based tf.train.Saver checkpoint using the object-based restore API. This mode uses global names to match variables, and so is somewhat fragile. It also adds new restore ops to the graph each time it is called when graph building. Prefer re-encoding training checkpoints in the object-based format: run save() on the object-based saver (the same one this message is coming from) and use that checkpoint in the future.\n"
          ]
        },
        {
          "output_type": "error",
          "ename": "AssertionError",
          "evalue": "ignored",
          "traceback": [
            "\u001b[0;31m---------------------------------------------------------------------------\u001b[0m",
            "\u001b[0;31mAssertionError\u001b[0m                            Traceback (most recent call last)",
            "\u001b[0;32m<ipython-input-40-8a9fc64528c8>\u001b[0m in \u001b[0;36m<cell line: 10>\u001b[0;34m()\u001b[0m\n\u001b[1;32m      8\u001b[0m     \u001b[0;32mreturn\u001b[0m \u001b[0mmodel\u001b[0m\u001b[0;34m\u001b[0m\u001b[0;34m\u001b[0m\u001b[0m\n\u001b[1;32m      9\u001b[0m \u001b[0mmodel\u001b[0m \u001b[0;34m=\u001b[0m \u001b[0mcreate_dqn_model_lunar_lander\u001b[0m\u001b[0;34m(\u001b[0m\u001b[0;36m4\u001b[0m\u001b[0;34m)\u001b[0m\u001b[0;34m\u001b[0m\u001b[0;34m\u001b[0m\u001b[0m\n\u001b[0;32m---> 10\u001b[0;31m \u001b[0mmodel\u001b[0m\u001b[0;34m.\u001b[0m\u001b[0mload_weights\u001b[0m\u001b[0;34m(\u001b[0m\u001b[0;34m'/content/dqn_agent/dqn_agent.ckpt.index'\u001b[0m\u001b[0;34m)\u001b[0m\u001b[0;34m\u001b[0m\u001b[0;34m\u001b[0m\u001b[0m\n\u001b[0m",
            "\u001b[0;32m/usr/local/lib/python3.10/dist-packages/keras/utils/traceback_utils.py\u001b[0m in \u001b[0;36merror_handler\u001b[0;34m(*args, **kwargs)\u001b[0m\n\u001b[1;32m     68\u001b[0m             \u001b[0;31m# To get the full stack trace, call:\u001b[0m\u001b[0;34m\u001b[0m\u001b[0;34m\u001b[0m\u001b[0m\n\u001b[1;32m     69\u001b[0m             \u001b[0;31m# `tf.debugging.disable_traceback_filtering()`\u001b[0m\u001b[0;34m\u001b[0m\u001b[0;34m\u001b[0m\u001b[0m\n\u001b[0;32m---> 70\u001b[0;31m             \u001b[0;32mraise\u001b[0m \u001b[0me\u001b[0m\u001b[0;34m.\u001b[0m\u001b[0mwith_traceback\u001b[0m\u001b[0;34m(\u001b[0m\u001b[0mfiltered_tb\u001b[0m\u001b[0;34m)\u001b[0m \u001b[0;32mfrom\u001b[0m \u001b[0;32mNone\u001b[0m\u001b[0;34m\u001b[0m\u001b[0;34m\u001b[0m\u001b[0m\n\u001b[0m\u001b[1;32m     71\u001b[0m         \u001b[0;32mfinally\u001b[0m\u001b[0;34m:\u001b[0m\u001b[0;34m\u001b[0m\u001b[0;34m\u001b[0m\u001b[0m\n\u001b[1;32m     72\u001b[0m             \u001b[0;32mdel\u001b[0m \u001b[0mfiltered_tb\u001b[0m\u001b[0;34m\u001b[0m\u001b[0;34m\u001b[0m\u001b[0m\n",
            "\u001b[0;32m/usr/local/lib/python3.10/dist-packages/tensorflow/python/checkpoint/checkpoint.py\u001b[0m in \u001b[0;36massert_consumed\u001b[0;34m(self)\u001b[0m\n\u001b[1;32m   1049\u001b[0m       unused_attribute_string = \"\".join(\n\u001b[1;32m   1050\u001b[0m           f\"\\n    {obj}: {attributes}\" for obj, attributes in unused_attributes)\n\u001b[0;32m-> 1051\u001b[0;31m       raise AssertionError(\n\u001b[0m\u001b[1;32m   1052\u001b[0m           \u001b[0;34m\"Some objects had attributes which were not restored: \"\u001b[0m\u001b[0;34m\u001b[0m\u001b[0;34m\u001b[0m\u001b[0m\n\u001b[1;32m   1053\u001b[0m           f\"{unused_attribute_string}\")\n",
            "\u001b[0;31mAssertionError\u001b[0m: Some objects had attributes which were not restored: \n    <tf.Variable 'dense_24/kernel:0' shape=(8, 128) dtype=float32, numpy=\narray([[ 0.11787586, -0.19389945, -0.0306907 , ..., -0.11294614,\n        -0.2037666 ,  0.02303989],\n       [-0.01068248, -0.06014062, -0.02667867, ...,  0.12710993,\n         0.09600617,  0.17955469],\n       [ 0.1486942 ,  0.17764811, -0.15963018, ...,  0.10159652,\n         0.13503851, -0.1201187 ],\n       ...,\n       [ 0.12665422,  0.075036  , -0.17887427, ...,  0.0921237 ,\n        -0.10274136,  0.20154639],\n       [ 0.04954018, -0.08914871,  0.12990712, ..., -0.08553959,\n        -0.05029745, -0.0408421 ],\n       [ 0.16087611, -0.15178797,  0.13390018, ...,  0.00144435,\n         0.19738232, -0.0688335 ]], dtype=float32)>: ['dense_24/kernel']\n    <tf.Variable 'dense_24/bias:0' shape=(128,) dtype=float32, numpy=\narray([0., 0., 0., 0., 0., 0., 0., 0., 0., 0., 0., 0., 0., 0., 0., 0., 0.,\n       0., 0., 0., 0., 0., 0., 0., 0., 0., 0., 0., 0., 0., 0., 0., 0., 0.,\n       0., 0., 0., 0., 0., 0., 0., 0., 0., 0., 0., 0., 0., 0., 0., 0., 0.,\n       0., 0., 0., 0., 0., 0., 0., 0., 0., 0., 0., 0., 0., 0., 0., 0., 0.,\n       0., 0., 0., 0., 0., 0., 0., 0., 0., 0., 0., 0., 0., 0., 0., 0., 0.,\n       0., 0., 0., 0., 0., 0., 0., 0., 0., 0., 0., 0., 0., 0., 0., 0., 0.,\n       0., 0., 0., 0., 0., 0., 0., 0., 0., 0., 0., 0., 0., 0., 0., 0., 0.,\n       0., 0., 0., 0., 0., 0., 0., 0., 0.], dtype=float32)>: ['dense_24/bias']\n    <tf.Variable 'dense_25/kernel:0' shape=(128, 128) dtype=float32, numpy=\narray([[ 0.02305286,  0.02834466, -0.13147545, ..., -0.05120794,\n         0.0732059 , -0.0479231 ],\n       [ 0.12887491, -0.01220331, -0.11317232, ...,  0.09953474,\n        -0.11567113, -0.03548525],\n       [ 0.1348625 ,  0.06189211, -0.04599487, ..., -0.05386469,\n         0.11256196,  0.09288958],\n       ...,\n       [ 0.0485266 ,  0.11498307,  0.08930065, ...,  0.04006727,\n        -0.05642346, -0.12051296],\n       [-0.00775228, -0.06666444, -0.11017054, ..., -0.02231982,\n        -0.10822891, -0.09658764],\n       [ 0.00324385,  0.10959457,  0.13957195, ..., -0.08728241,\n        -0.13919353,  0.13196732]], dtype=float32)>: ['dense_25/kernel']\n    <tf.Variable 'dense_25/bias:0' shape=(128,) dtype=float32, numpy=\narray([0., 0., 0., 0., 0., 0., 0., 0., 0., 0., 0., 0., 0., 0., 0., 0., 0.,\n       0., 0., 0., 0., 0., 0., 0., 0., 0., 0., 0., 0., 0., 0., 0., 0., 0.,\n       0., 0., 0., 0., 0., 0., 0., 0., 0., 0., 0., 0., 0., 0., 0., 0., 0.,\n       0., 0., 0., 0., 0., 0., 0., 0., 0., 0., 0., 0., 0., 0., 0., 0., 0.,\n       0., 0., 0., 0., 0., 0., 0., 0., 0., 0., 0., 0., 0., 0., 0., 0., 0.,\n       0., 0., 0., 0., 0., 0., 0., 0., 0., 0., 0., 0., 0., 0., 0., 0., 0.,\n       0., 0., 0., 0., 0., 0., 0., 0., 0., 0., 0., 0., 0., 0., 0., 0., 0.,\n       0., 0., 0., 0., 0., 0., 0., 0., 0.], dtype=float32)>: ['dense_25/bias']\n    <tf.Variable 'dense_26/kernel:0' shape=(128, 4) dtype=float32, numpy=\narray([[ 0.09552184,  0.14574909,  0.07828149, -0.02749409],\n       [-0.21139942,  0.07219315,  0.17859751, -0.16783154],\n       [ 0.20137149,  0.2054525 ,  0.06036687,  0.00712352],\n       [ 0.09534353, -0.01506256,  0.0775567 ,  0.18801227],\n       [-0.1781419 ,  0.15903667, -0.11480962, -0.17062274],\n       [ 0.01956633,  0.20665541, -0.05759621,  0.0806224 ],\n       [ 0.16150132,  0.14832702,  0.01213022,  0.19776192],\n       [ 0.17131239, -0.1522735 ,  0.00569831,  0.02925187],\n       [ 0.13893458, -0.07206923,  0.19156054, -0.12925427],\n       [-0.18188587, -0.10795663, -0.05388941, -0.13659209],\n       [-0.13768154,  0.17353073,  0.07571793,  0.12026241],\n       [ 0.14599663, -0.06065589,  0.19482043, -0.10566664],\n       [-0.11399927,  0.10326555,  0.06788102, -0.02828979],\n       [-0.197284  ,  0.16103667, -0.02255744,  0.02333367],\n       [-0.06477116, -0.09280111, -0.16748635,  0.15770215],\n       [-0.01818281,  0.04363832,  0.06332213, -0.14701885],\n       [ 0.13307568, -0.20354226, -0.17198089, -0.10720561],\n       [-0.07173079,  0.11114398, -0.02187949, -0.16446288],\n       [-0.12709948, -0.06548874, -0.1038472 , -0.10619208],\n       [-0.15844199,  0.01891539, -0.08796021, -0.11611028],\n       [-0.15169483, -0.17944089,  0.01685724,  0.13921216],\n       [-0.07667238, -0.12573865,  0.19677225, -0.16057797],\n       [ 0.14603588, -0.12892422, -0.16085285, -0.00220124],\n       [ 0.01258428, -0.0496375 , -0.02299534,  0.15358937],\n       [ 0.12556276, -0.10233919,  0.06649488,  0.01411439],\n       [ 0.10981008, -0.0816101 , -0.13277864,  0.19705698],\n       [ 0.08340073, -0.13880384,  0.0039205 , -0.09516531],\n       [-0.0395079 , -0.07328053, -0.02980258, -0.07142164],\n       [-0.03677842,  0.20366442,  0.15293708, -0.06715071],\n       [-0.18586883,  0.19052562,  0.10733309,  0.127785  ],\n       [ 0.20459452, -0.03141697,  0.07444984,  0.17295083],\n       [-0.15283243, -0.13335364,  0.12002376,  0.15082338],\n       [-0.20135282,  0.07748869,  0.15424538, -0.13133594],\n       [ 0.06794825,  0.11287138, -0.09545048,  0.09126565],\n       [-0.02875714, -0.00043252, -0.0345289 ,  0.19393963],\n       [-0.14924169,  0.03482386,  0.10354212, -0.09119485],\n       [ 0.2099213 , -0.11360873, -0.06152087, -0.16174947],\n       [-0.17496964, -0.06052475, -0.1849732 , -0.172955  ],\n       [ 0.02423196,  0.08925584,  0.19672939,  0.15571144],\n       [ 0.14296883, -0.0827419 ,  0.00878644, -0.00591505],\n       [-0.05094817, -0.0677796 ,  0.0705286 ,  0.00503512],\n       [ 0.16227236, -0.03400905, -0.1468322 , -0.12642619],\n       [ 0.12994802, -0.10006563,  0.07772213,  0.02736101],\n       [-0.02817273, -0.06422345, -0.183136  , -0.20618477],\n       [-0.00065984,  0.08610666,  0.04343104,  0.03994811],\n       [ 0.01892342, -0.03021507, -0.05872609, -0.0082643 ],\n       [ 0.1994949 , -0.0667733 ,  0.1257692 , -0.06426138],\n       [ 0.20221508, -0.19289896, -0.18448725,  0.16936141],\n       [ 0.0472804 , -0.03478701, -0.13534719,  0.15159851],\n       [ 0.02620806,  0.01776992, -0.1516715 , -0.04688413],\n       [-0.10379566, -0.11087012, -0.11980803,  0.07370666],\n       [ 0.02189001, -0.02862518,  0.13958266,  0.04507038],\n       [-0.14198148, -0.0904452 , -0.00057775, -0.00838172],\n       [ 0.20310065,  0.16662961,  0.19445065,  0.04683596],\n       [ 0.1177291 ,  0.14553702,  0.13913903,  0.1890319 ],\n       [-0.11612283, -0.1018288 ,  0.03563198,  0.16961297],\n       [-0.0029846 ,  0.19140407,  0.17278472, -0.0480137 ],\n       [ 0.2074002 , -0.02247016, -0.11844093,  0.13453186],\n       [-0.08874566, -0.0426216 ,  0.16210768,  0.12618414],\n       [ 0.17328373,  0.09530967,  0.01424702,  0.08058107],\n       [ 0.12938526, -0.08171207,  0.13659477, -0.11573378],\n       [ 0.18383828,  0.15603483,  0.20920092,  0.12538365],\n       [-0.21112442, -0.05840524, -0.17911404,  0.16121817],\n       [-0.03641468, -0.18901888, -0.00860529,  0.20641848],\n       [-0.15680555, -0.18858296,  0.13415977,  0.10536268],\n       [ 0.19884166,  0.07095823, -0.10737309,  0.09678805],\n       [ 0.10555145, -0.05582374,  0.10323617,  0.20333034],\n       [-0.02076589, -0.04646555, -0.14050108, -0.04499337],\n       [ 0.14991808, -0.03804727,  0.20867929,  0.21209952],\n       [-0.20779784,  0.18341467, -0.01938252,  0.03267901],\n       [-0.09761608, -0.04260615, -0.05480757,  0.15007648],\n       [ 0.17398617, -0.0724681 ,  0.20462054, -0.20624368],\n       [-0.13628903,  0.16896483,  0.14061713, -0.05310783],\n       [-0.17004193, -0.2035876 , -0.13310376, -0.17271784],\n       [-0.12364598, -0.071924  , -0.05833347,  0.21009779],\n       [-0.15922275,  0.14814413, -0.03203253, -0.08020188],\n       [-0.17064032,  0.10935789,  0.07317609, -0.03315601],\n       [ 0.19493204, -0.21109626,  0.04828352, -0.06545012],\n       [ 0.10871243,  0.07897696,  0.06963685, -0.12488671],\n       [-0.02374357,  0.16233432,  0.12190643,  0.06528223],\n       [ 0.20184004, -0.1030797 , -0.03224695,  0.01188058],\n       [-0.06384243,  0.19386312, -0.20655222, -0.12334303],\n       [-0.00430742, -0.07030447, -0.02656296,  0.15210012],\n       [-0.04195847,  0.14778775,  0.10331383, -0.13150272],\n       [ 0.08769381, -0.0455883 ,  0.1944609 , -0.19347087],\n       [ 0.21153858,  0.08320218, -0.04097721, -0.08448429],\n       [-0.04706118, -0.00050125, -0.17814577, -0.11127336],\n       [ 0.09950119, -0.13605088, -0.11774298,  0.16817299],\n       [ 0.18535534,  0.14131886,  0.08481139,  0.0981068 ],\n       [-0.16298878,  0.12340006, -0.05341125, -0.01740535],\n       [-0.18443443, -0.17633131, -0.18923746,  0.04767892],\n       [-0.14805686,  0.16189861,  0.12985891, -0.06527108],\n       [ 0.1243695 , -0.05160603, -0.12174759,  0.10562089],\n       [ 0.17214075, -0.20208865, -0.02946806,  0.11020046],\n       [ 0.02767916, -0.20207681, -0.16974117, -0.00585222],\n       [-0.11562866, -0.16376533, -0.02082801, -0.03127235],\n       [ 0.03278188, -0.05759718,  0.12601227,  0.13383517],\n       [ 0.11439887, -0.03581579, -0.01546133, -0.03369486],\n       [ 0.03170808,  0.01725632, -0.11393649, -0.15163659],\n       [ 0.06559417, -0.07179026, -0.1366052 , -0.10227652],\n       [ 0.04081613,  0.14707908,  0.068609  , -0.16283089],\n       [-0.0229104 , -0.05953771,  0.16660368, -0.12282597],\n       [ 0.15265   , -0.04915577, -0.06638327,  0.18145111],\n       [-0.14390387,  0.10430712,  0.11212599, -0.08226979],\n       [-0.19796169,  0.02232848,  0.0367493 ,  0.15918642],\n       [-0.11850254,  0.19217613,  0.1051774 , -0.16321471],\n       [-0.13537519, -0.1428782 ,  0.0226471 , -0.16689661],\n       [ 0.17722058,  0.19968414, -0.0428203 ,  0.03018975],\n       [ 0.14321521,  0.16800642,  0.14073125,  0.13338286],\n       [ 0.02126749, -0.18559287,  0.04303324, -0.02957115],\n       [ 0.08905074, -0.09425407,  0.08528945, -0.00216988],\n       [-0.0762794 ,  0.01931843,  0.05102468,  0.14261046],\n       [ 0.07323855,  0.03351548,  0.14291266, -0.01024173],\n       [ 0.11307603, -0.12065645,  0.08763489,  0.14869681],\n       [-0.0022386 ,  0.09851182,  0.0511598 ,  0.07922339],\n       [ 0.16844553,  0.10274646, -0.17492919,  0.01820533],\n       [-0.13963792,  0.05952352, -0.068795  , -0.03800391],\n       [ 0.07799476, -0.17117435, -0.19450411, -0.07650276],\n       [-0.0509316 , -0.01161458, -0.0775726 , -0.08688149],\n       [ 0.13956362, -0.1913164 , -0.07582472,  0.07515451],\n       [-0.13557135,  0.20173654,  0.0317948 ,  0.14846092],\n       [-0.14439607, -0.03412911, -0.11014557, -0.04851769],\n       [-0.07230879, -0.10818019, -0.1784597 , -0.15508252],\n       [-0.21046372, -0.09694537, -0.01433994, -0.17299278],\n       [ 0.14316693,  0.0748969 , -0.07962261, -0.20784648],\n       [ 0.13916963,  0.02044713, -0.19227369,  0.20936134],\n       [-0.09058183,  0.14727849,  0.1636472 , -0.04954535],\n       [-0.0395361 , -0.17574888,  0.1267209 ,  0.15320686]],\n      dtype=float32)>: ['dense_26/kernel']\n    <tf.Variable 'dense_26/bias:0' shape=(4,) dtype=float32, numpy=array([0., 0., 0., 0.], dtype=float32)>: ['dense_26/bias']"
          ]
        }
      ]
    },
    {
      "cell_type": "code",
      "source": [],
      "metadata": {
        "id": "2_ZDW4JlPyat"
      },
      "execution_count": null,
      "outputs": []
    }
  ]
}